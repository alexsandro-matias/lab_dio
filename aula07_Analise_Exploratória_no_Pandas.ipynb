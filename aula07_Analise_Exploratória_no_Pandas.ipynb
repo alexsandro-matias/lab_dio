{
  "nbformat": 4,
  "nbformat_minor": 0,
  "metadata": {
    "colab": {
      "name": "aula07_Analise_Exploratória_no_Pandas.ipynb",
      "provenance": [],
      "authorship_tag": "ABX9TyPAd3lh3xIan1n5ZUa6wSo/",
      "include_colab_link": true
    },
    "kernelspec": {
      "name": "python3",
      "display_name": "Python 3"
    },
    "language_info": {
      "name": "python"
    }
  },
  "cells": [
    {
      "cell_type": "markdown",
      "metadata": {
        "id": "view-in-github",
        "colab_type": "text"
      },
      "source": [
        "<a href=\"https://colab.research.google.com/github/alexsandro-matias/lab_dio/blob/main/aula07_Analise_Explorat%C3%B3ria_no_Pandas.ipynb\" target=\"_parent\"><img src=\"https://colab.research.google.com/assets/colab-badge.svg\" alt=\"Open In Colab\"/></a>"
      ]
    },
    {
      "cell_type": "code",
      "metadata": {
        "id": "YulgkSpMeZO7"
      },
      "source": [
        "import pandas as pd\n",
        "import matplotlib.pyplot as plt\n",
        "plt.style.use(\"seaborn\")"
      ],
      "execution_count": 1,
      "outputs": []
    }
  ]
}