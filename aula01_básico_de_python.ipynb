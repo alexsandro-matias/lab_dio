{
  "nbformat": 4,
  "nbformat_minor": 0,
  "metadata": {
    "colab": {
      "name": "lab_dio.ipynb",
      "provenance": [],
      "authorship_tag": "ABX9TyPEL//wORfY30KLTQKl3SdY",
      "include_colab_link": true
    },
    "kernelspec": {
      "name": "python3",
      "display_name": "Python 3"
    },
    "language_info": {
      "name": "python"
    }
  },
  "cells": [
    {
      "cell_type": "markdown",
      "metadata": {
        "id": "view-in-github",
        "colab_type": "text"
      },
      "source": [
        "<a href=\"https://colab.research.google.com/github/alexsandro-matias/lab_dio/blob/main/aula01_basico_de_python.ipynb\" target=\"_parent\"><img src=\"https://colab.research.google.com/assets/colab-badge.svg\" alt=\"Open In Colab\"/></a>"
      ]
    },
    {
      "cell_type": "markdown",
      "metadata": {
        "id": "eilYxJNqu8Sk"
      },
      "source": [
        "# Comandos básicos em Python"
      ]
    },
    {
      "cell_type": "markdown",
      "metadata": {
        "id": "p_nn4FcavCl0"
      },
      "source": [
        "# print\n",
        "Ele tem a função de imprimir algo no console"
      ]
    },
    {
      "cell_type": "code",
      "metadata": {
        "colab": {
          "base_uri": "https://localhost:8080/"
        },
        "id": "DqNStnBvPBfW",
        "outputId": "2c34a2a8-05be-4ff6-9365-77f2ba28daef"
      },
      "source": [
        "print(\"Estou aprendendo Python.\")"
      ],
      "execution_count": 1,
      "outputs": [
        {
          "output_type": "stream",
          "text": [
            "Estou aprendendo Python.\n"
          ],
          "name": "stdout"
        }
      ]
    },
    {
      "cell_type": "markdown",
      "metadata": {
        "id": "-eGvGJInwIPS"
      },
      "source": [
        "Ele também permite a impressão de resultados matemáticos:"
      ]
    },
    {
      "cell_type": "code",
      "metadata": {
        "id": "GEz_EzhjwNgG",
        "outputId": "24553acc-662f-4603-dc17-4cdf39735332",
        "colab": {
          "base_uri": "https://localhost:8080/"
        }
      },
      "source": [
        "print(10 + 5)"
      ],
      "execution_count": 2,
      "outputs": [
        {
          "output_type": "stream",
          "text": [
            "15\n"
          ],
          "name": "stdout"
        }
      ]
    },
    {
      "cell_type": "code",
      "metadata": {
        "id": "qBq-iRXCwYxd",
        "outputId": "a0bb0da9-3525-48c1-ac88-182bf17d152d",
        "colab": {
          "base_uri": "https://localhost:8080/"
        }
      },
      "source": [
        "print(15/5)"
      ],
      "execution_count": 3,
      "outputs": [
        {
          "output_type": "stream",
          "text": [
            "3.0\n"
          ],
          "name": "stdout"
        }
      ]
    },
    {
      "cell_type": "markdown",
      "metadata": {
        "id": "fXiXmPGHw6cT"
      },
      "source": [
        "Percebe-se que quando é realizada a divisão, o valor retornado por padrão é ponto flutuante."
      ]
    },
    {
      "cell_type": "markdown",
      "metadata": {
        "id": "qnfDU70LxEaD"
      },
      "source": [
        "# Strings"
      ]
    },
    {
      "cell_type": "markdown",
      "metadata": {
        "id": "IoAtNtJ1yux7"
      },
      "source": [
        "## Operações básicas "
      ]
    },
    {
      "cell_type": "markdown",
      "metadata": {
        "id": "nDdni__UxPEB"
      },
      "source": [
        "A atribuição é feita de forma normal, como se fosse de uma variável numérica. Mas esta atribuição pode ser feita usando aspas duplas ou aspas simplas (plicas)"
      ]
    },
    {
      "cell_type": "code",
      "metadata": {
        "id": "3Vyq1RZnxOur"
      },
      "source": [
        "nome = \"Alexsandro\""
      ],
      "execution_count": 4,
      "outputs": []
    },
    {
      "cell_type": "code",
      "metadata": {
        "id": "rHdct1HBxHw_"
      },
      "source": [
        "sobrenome = 'Matias'"
      ],
      "execution_count": 5,
      "outputs": []
    },
    {
      "cell_type": "markdown",
      "metadata": {
        "id": "P60VwUI7xzFe"
      },
      "source": [
        "Concatenado (juntando) um texto com o outro:"
      ]
    },
    {
      "cell_type": "code",
      "metadata": {
        "id": "Z3RU6VkYx444"
      },
      "source": [
        "nome_completo = nome + sobrenome"
      ],
      "execution_count": 6,
      "outputs": []
    },
    {
      "cell_type": "code",
      "metadata": {
        "id": "3WFgdRNzx8_C",
        "outputId": "581c2b9d-5856-4912-e63f-b01ec78ddca1",
        "colab": {
          "base_uri": "https://localhost:8080/"
        }
      },
      "source": [
        "print(nome_completo)"
      ],
      "execution_count": 7,
      "outputs": [
        {
          "output_type": "stream",
          "text": [
            "AlexsandroMatias\n"
          ],
          "name": "stdout"
        }
      ]
    },
    {
      "cell_type": "markdown",
      "metadata": {
        "id": "2SNUlghHyPjN"
      },
      "source": [
        "Para que se tenha um espaço entre o nome e sobrenome:"
      ]
    },
    {
      "cell_type": "code",
      "metadata": {
        "id": "YS5-n3KuyGEh"
      },
      "source": [
        "nome_completo = nome + \" \" + sobrenome"
      ],
      "execution_count": 8,
      "outputs": []
    },
    {
      "cell_type": "code",
      "metadata": {
        "id": "9OZPSEp5yaSt",
        "outputId": "5820c1ed-1fcc-4ec0-dc9d-2932f5047e70",
        "colab": {
          "base_uri": "https://localhost:8080/"
        }
      },
      "source": [
        "print(nome_completo)"
      ],
      "execution_count": 9,
      "outputs": [
        {
          "output_type": "stream",
          "text": [
            "Alexsandro Matias\n"
          ],
          "name": "stdout"
        }
      ]
    },
    {
      "cell_type": "markdown",
      "metadata": {
        "id": "DapqU0kry2E3"
      },
      "source": [
        "## Fateamento de Strings (Slicing)"
      ]
    },
    {
      "cell_type": "markdown",
      "metadata": {
        "id": "ZiMTNArRzTWd"
      },
      "source": [
        "Buscando primeira letra da variável **nome**:"
      ]
    },
    {
      "cell_type": "code",
      "metadata": {
        "id": "RtwRc_xky915",
        "outputId": "6ea832b1-fc1b-49c4-b678-b6b709a4e781",
        "colab": {
          "base_uri": "https://localhost:8080/",
          "height": 35
        }
      },
      "source": [
        "nome[0]"
      ],
      "execution_count": 10,
      "outputs": [
        {
          "output_type": "execute_result",
          "data": {
            "application/vnd.google.colaboratory.intrinsic+json": {
              "type": "string"
            },
            "text/plain": [
              "'A'"
            ]
          },
          "metadata": {
            "tags": []
          },
          "execution_count": 10
        }
      ]
    },
    {
      "cell_type": "markdown",
      "metadata": {
        "id": "GN4PntW2zfgk"
      },
      "source": [
        "Já buscando da primeira letra da variável **nome** até décima:"
      ]
    },
    {
      "cell_type": "code",
      "metadata": {
        "id": "2MsupLdAzp7u",
        "outputId": "d77dda76-207e-4a36-ebe4-47b90acc8246",
        "colab": {
          "base_uri": "https://localhost:8080/",
          "height": 35
        }
      },
      "source": [
        "nome[0:10]"
      ],
      "execution_count": 11,
      "outputs": [
        {
          "output_type": "execute_result",
          "data": {
            "application/vnd.google.colaboratory.intrinsic+json": {
              "type": "string"
            },
            "text/plain": [
              "'Alexsandro'"
            ]
          },
          "metadata": {
            "tags": []
          },
          "execution_count": 11
        }
      ]
    },
    {
      "cell_type": "markdown",
      "metadata": {
        "id": "Yw1WxKOLzu2w"
      },
      "source": [
        "O fateamento em Python é feito de forma inclusiva para primeiro termo, e exclusiva para o seguind. Ou seja, o primeiro termo estará contido no intervalo, enquanto o segundo termo não o estará. Assim nome[0:10] - Estará do elemento 0 até o elemento 9."
      ]
    },
    {
      "cell_type": "markdown",
      "metadata": {
        "id": "bYwbeeHA0nGR"
      },
      "source": [
        "Para realizar o fateamento para o início ou final do texto, se realizará da seguinte forma:"
      ]
    },
    {
      "cell_type": "code",
      "metadata": {
        "id": "_r7UN9hlzqi-",
        "outputId": "3ee63237-f64d-43ff-d4ee-1990714c3a10",
        "colab": {
          "base_uri": "https://localhost:8080/",
          "height": 35
        }
      },
      "source": [
        "nome_completo[10:]"
      ],
      "execution_count": 12,
      "outputs": [
        {
          "output_type": "execute_result",
          "data": {
            "application/vnd.google.colaboratory.intrinsic+json": {
              "type": "string"
            },
            "text/plain": [
              "' Matias'"
            ]
          },
          "metadata": {
            "tags": []
          },
          "execution_count": 12
        }
      ]
    },
    {
      "cell_type": "code",
      "metadata": {
        "id": "I_h5gVf301Uu",
        "outputId": "9be1d863-04e4-4c4a-d996-b6615945173f",
        "colab": {
          "base_uri": "https://localhost:8080/",
          "height": 35
        }
      },
      "source": [
        "nome_completo[:10]"
      ],
      "execution_count": 13,
      "outputs": [
        {
          "output_type": "execute_result",
          "data": {
            "application/vnd.google.colaboratory.intrinsic+json": {
              "type": "string"
            },
            "text/plain": [
              "'Alexsandro'"
            ]
          },
          "metadata": {
            "tags": []
          },
          "execution_count": 13
        }
      ]
    },
    {
      "cell_type": "markdown",
      "metadata": {
        "id": "-S9GyvgC1F8X"
      },
      "source": [
        "No primeiro caso, será impresso da posição *10* até o final do texto. Já no seguindo caso, será da posição *0* até a posição 9."
      ]
    },
    {
      "cell_type": "markdown",
      "metadata": {
        "id": "KcQFLqJc2Ma9"
      },
      "source": [
        "## Alterando a caixa do texto"
      ]
    },
    {
      "cell_type": "markdown",
      "metadata": {
        "id": "uYYjeTqO2DwG"
      },
      "source": [
        "\n",
        "\n",
        "Já Imprimindo o texto em maiúsculo:"
      ]
    },
    {
      "cell_type": "code",
      "metadata": {
        "id": "1KnLN0SY2arr",
        "outputId": "1f9f0785-2f39-4174-8111-78948c7afa3b",
        "colab": {
          "base_uri": "https://localhost:8080/",
          "height": 35
        }
      },
      "source": [
        "nome_completo.upper()"
      ],
      "execution_count": 15,
      "outputs": [
        {
          "output_type": "execute_result",
          "data": {
            "application/vnd.google.colaboratory.intrinsic+json": {
              "type": "string"
            },
            "text/plain": [
              "'ALEXSANDRO MATIAS'"
            ]
          },
          "metadata": {
            "tags": []
          },
          "execution_count": 15
        }
      ]
    },
    {
      "cell_type": "markdown",
      "metadata": {
        "id": "imDG341t2fqb"
      },
      "source": [
        "Já Imprimindo o texto em minúsculo:"
      ]
    },
    {
      "cell_type": "code",
      "metadata": {
        "id": "XuQ1VQhx2d9h",
        "outputId": "6e2d014a-598e-4573-8b35-2aeb8b10e002",
        "colab": {
          "base_uri": "https://localhost:8080/",
          "height": 35
        }
      },
      "source": [
        "nome_completo.lower()"
      ],
      "execution_count": 17,
      "outputs": [
        {
          "output_type": "execute_result",
          "data": {
            "application/vnd.google.colaboratory.intrinsic+json": {
              "type": "string"
            },
            "text/plain": [
              "'alexsandro matias'"
            ]
          },
          "metadata": {
            "tags": []
          },
          "execution_count": 17
        }
      ]
    },
    {
      "cell_type": "markdown",
      "metadata": {
        "id": "EajqA6i32wDy"
      },
      "source": [
        "Imprimindo o texto de forma capitalizada - alterando entre os caracteres de cada palavra entre maiúsculas e minúsculas: "
      ]
    },
    {
      "cell_type": "code",
      "metadata": {
        "id": "CUaUPMd62ri4",
        "outputId": "dd756127-ab4f-49f8-ae3d-ac32202a2292",
        "colab": {
          "base_uri": "https://localhost:8080/",
          "height": 35
        }
      },
      "source": [
        "nome_completo.capitalize()"
      ],
      "execution_count": 18,
      "outputs": [
        {
          "output_type": "execute_result",
          "data": {
            "application/vnd.google.colaboratory.intrinsic+json": {
              "type": "string"
            },
            "text/plain": [
              "'Alexsandro matias'"
            ]
          },
          "metadata": {
            "tags": []
          },
          "execution_count": 18
        }
      ]
    }
  ]
}